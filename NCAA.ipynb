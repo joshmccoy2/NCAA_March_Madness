{
 "cells": [
  {
   "cell_type": "markdown",
   "id": "22b85de3-117a-4982-aca2-4e14f87a9738",
   "metadata": {},
   "source": [
    "This is a test for our project"
   ]
  },
  {
   "cell_type": "code",
   "execution_count": 1,
   "id": "04e2b5d8",
   "metadata": {},
   "outputs": [
    {
     "ename": "FileNotFoundError",
     "evalue": "[Errno 2] No such file or directory: '/Users/jimhaines/Desktop/Extra\\\\ 1/CAPSTONE/CapstoneProject/mens-march-mania-2022/MDataFiles_Stage1'",
     "output_type": "error",
     "traceback": [
      "\u001b[0;31m---------------------------------------------------------------------------\u001b[0m",
      "\u001b[0;31mFileNotFoundError\u001b[0m                         Traceback (most recent call last)",
      "\u001b[0;32m/var/folders/j4/hz81p_r17tz8k59q3wdd2gcm0000gn/T/ipykernel_23418/368244971.py\u001b[0m in \u001b[0;36m<module>\u001b[0;34m\u001b[0m\n\u001b[1;32m     10\u001b[0m \u001b[0;34m\u001b[0m\u001b[0m\n\u001b[1;32m     11\u001b[0m \u001b[0;31m# Iterate through all files in the folder\u001b[0m\u001b[0;34m\u001b[0m\u001b[0;34m\u001b[0m\u001b[0m\n\u001b[0;32m---> 12\u001b[0;31m \u001b[0;32mfor\u001b[0m \u001b[0mfilename\u001b[0m \u001b[0;32min\u001b[0m \u001b[0mos\u001b[0m\u001b[0;34m.\u001b[0m\u001b[0mlistdir\u001b[0m\u001b[0;34m(\u001b[0m\u001b[0mfolder_path\u001b[0m\u001b[0;34m)\u001b[0m\u001b[0;34m:\u001b[0m\u001b[0;34m\u001b[0m\u001b[0;34m\u001b[0m\u001b[0m\n\u001b[0m\u001b[1;32m     13\u001b[0m     \u001b[0;32mif\u001b[0m \u001b[0mfilename\u001b[0m\u001b[0;34m.\u001b[0m\u001b[0mendswith\u001b[0m\u001b[0;34m(\u001b[0m\u001b[0;34m\".csv\"\u001b[0m\u001b[0;34m)\u001b[0m\u001b[0;34m:\u001b[0m\u001b[0;34m\u001b[0m\u001b[0;34m\u001b[0m\u001b[0m\n\u001b[1;32m     14\u001b[0m         \u001b[0mfile_path\u001b[0m \u001b[0;34m=\u001b[0m \u001b[0mos\u001b[0m\u001b[0;34m.\u001b[0m\u001b[0mpath\u001b[0m\u001b[0;34m.\u001b[0m\u001b[0mjoin\u001b[0m\u001b[0;34m(\u001b[0m\u001b[0mfolder_path\u001b[0m\u001b[0;34m,\u001b[0m \u001b[0mfilename\u001b[0m\u001b[0;34m)\u001b[0m\u001b[0;34m\u001b[0m\u001b[0;34m\u001b[0m\u001b[0m\n",
      "\u001b[0;31mFileNotFoundError\u001b[0m: [Errno 2] No such file or directory: '/Users/jimhaines/Desktop/Extra\\\\ 1/CAPSTONE/CapstoneProject/mens-march-mania-2022/MDataFiles_Stage1'"
     ]
    }
   ],
   "source": [
    "import os\n",
    "import pandas as pd\n",
    "\n",
    "# Specify the folder where your CSV files are located\n",
    "#folder_path = '/Users/joshmccoy/Desktop/NCAA_March_Madness/march-machine-learning-mania-2023/ImportantCSVs'\n",
    "folder_path = '/Users/jimhaines/Desktop/Extra\\ 1/CAPSTONE/CapstoneProject/mens-march-mania-2022/MDataFiles_Stage1'\n",
    "\n",
    "# Initialize an empty dictionary to store DataFrames with their file names as keys\n",
    "dataframes = {}\n",
    "\n",
    "# Iterate through all files in the folder\n",
    "for filename in os.listdir(folder_path):\n",
    "    if filename.endswith(\".csv\"):\n",
    "        file_path = os.path.join(folder_path, filename)\n",
    "        try:\n",
    "            # Try different encodings until one works\n",
    "            df = pd.read_csv(file_path, encoding='utf-8')\n",
    "        except UnicodeDecodeError:\n",
    "            try:\n",
    "                df = pd.read_csv(file_path, encoding='latin1')\n",
    "            except:\n",
    "                df = pd.read_csv(file_path, encoding='ISO-8859-1')\n",
    "        \n",
    "        # Use the file name (without the .csv extension) as the DataFrame's name/key\n",
    "        dataframe_name = os.path.splitext(filename)[0]\n",
    "        dataframes[dataframe_name] = df\n",
    "\n",
    "# Now, you have a dictionary where keys are the CSV file names (without .csv extension)\n",
    "# and values are the corresponding DataFrames for all CSV files in the folder."
   ]
  },
  {
   "cell_type": "code",
   "execution_count": 4,
   "id": "698107a4",
   "metadata": {},
   "outputs": [],
   "source": [
    "# Access the \"MRegularSeasonDetailedResults\" DataFrame from the dictionary\n",
    "m_regular_season_df = dataframes.get(\"MRegularSeasonDetailedResults\")\n",
    "m_regular_season_df\n",
    "\n",
    "# Now, you have the \"m_regular_season_df\" DataFrame that corresponds to the \"MRegularSeasonDetailedResults.csv\" file"
   ]
  },
  {
   "cell_type": "code",
   "execution_count": null,
   "id": "d59039ed",
   "metadata": {},
   "outputs": [],
   "source": [
    "#ok"
   ]
  }
 ],
 "metadata": {
  "kernelspec": {
   "display_name": "Python 3 (ipykernel)",
   "language": "python",
   "name": "python3"
  },
  "language_info": {
   "codemirror_mode": {
    "name": "ipython",
    "version": 3
   },
   "file_extension": ".py",
   "mimetype": "text/x-python",
   "name": "python",
   "nbconvert_exporter": "python",
   "pygments_lexer": "ipython3",
   "version": "3.9.7"
  }
 },
 "nbformat": 4,
 "nbformat_minor": 5
}
